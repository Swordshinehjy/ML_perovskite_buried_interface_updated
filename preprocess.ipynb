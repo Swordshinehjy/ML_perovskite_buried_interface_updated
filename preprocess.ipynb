{
 "cells": [
  {
   "cell_type": "code",
   "execution_count": 2,
   "metadata": {},
   "outputs": [],
   "source": [
    "from rdkit import Chem\n",
    "from rdkit.Chem import Descriptors\n",
    "import pandas as pd\n",
    "dataset = pd.read_excel(r'new.xlsx'  )\n",
    "smiles = dataset['SMILES']\n",
    "mols = [Chem.MolFromSmiles(m) for m in smiles]\n",
    "def getDefinedMolDescriptors(mol, list, missingVal=None):\n",
    "    ''' calculate the list of descriptors for a molecule\n",
    "        missingVal is used if the descriptor cannot be calculated\n",
    "    '''\n",
    "    res = {}\n",
    "    for nm,fn in list:\n",
    "        try:\n",
    "            val = fn(mol)\n",
    "        except:\n",
    "            import traceback\n",
    "            traceback.print_exc()\n",
    "            val = missingVal\n",
    "        res[nm] = val\n",
    "    return res\n",
    "# new decriptors\n",
    "desc_list = ['NumHAcceptors','NumHDonors']\n",
    "selected_list = [(name, func) for name, func in Descriptors._descList if name in desc_list]\n",
    "definedDescrs = [getDefinedMolDescriptors(m, selected_list) for m in mols]\n",
    "df2 = pd.DataFrame(definedDescrs)\n",
    "# one-hot encoding of anchor_end\n",
    "unique_anchors = ['anchor_end_' + anchor for anchor in dataset['anchor_end'].str.split(';').explode().unique()] # ['anchor_end_PA','anchor_end_SA','anchor_end_CA','anchor_end_BA','anchor_end_O','anchor_end_SiO','anchor_end_N','anchor_end_S']\n",
    "one_hot_df = pd.DataFrame(index=dataset.index, columns=unique_anchors, dtype=int)\n",
    "# Fill the one-hot encoded DataFrame\n",
    "for index, row in dataset.iterrows():\n",
    "    for anchor in row['anchor_end'].split(';'):\n",
    "        one_hot_df.loc[index, 'anchor_end_' + anchor] = 1\n",
    "one_hot_df.fillna(0, inplace=True)\n",
    "data = pd.concat([df2, one_hot_df, pd.get_dummies(dataset.iloc[:,6:],dtype=int)],axis=1)\n",
    "data.drop(['mol_vol','NPSA_multiwfn'],axis=1,inplace=True)\n",
    "data = data[list(data.columns[data.columns != 'PCE'])+['PCE']]\n",
    "data.to_csv('dataset.csv',index=False)\n"
   ]
  },
  {
   "cell_type": "code",
   "execution_count": null,
   "metadata": {},
   "outputs": [],
   "source": []
  }
 ],
 "metadata": {
  "kernelspec": {
   "display_name": "rdkit",
   "language": "python",
   "name": "python3"
  },
  "language_info": {
   "codemirror_mode": {
    "name": "ipython",
    "version": 3
   },
   "file_extension": ".py",
   "mimetype": "text/x-python",
   "name": "python",
   "nbconvert_exporter": "python",
   "pygments_lexer": "ipython3",
   "version": "3.9.10"
  }
 },
 "nbformat": 4,
 "nbformat_minor": 2
}
